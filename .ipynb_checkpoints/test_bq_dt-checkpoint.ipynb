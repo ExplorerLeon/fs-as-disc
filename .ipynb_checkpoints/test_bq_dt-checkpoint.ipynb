{
 "cells": [
  {
   "cell_type": "code",
   "execution_count": 7,
   "id": "f0c31675",
   "metadata": {},
   "outputs": [],
   "source": [
    "import pandas as pd\n",
    "import numpy as np\n",
    "\n",
    "from google.cloud import storage"
   ]
  },
  {
   "cell_type": "code",
   "execution_count": 2,
   "id": "67db8ca4",
   "metadata": {},
   "outputs": [
    {
     "data": {
      "text/html": [
       "<div>\n",
       "<style scoped>\n",
       "    .dataframe tbody tr th:only-of-type {\n",
       "        vertical-align: middle;\n",
       "    }\n",
       "\n",
       "    .dataframe tbody tr th {\n",
       "        vertical-align: top;\n",
       "    }\n",
       "\n",
       "    .dataframe thead th {\n",
       "        text-align: right;\n",
       "    }\n",
       "</style>\n",
       "<table border=\"1\" class=\"dataframe\">\n",
       "  <thead>\n",
       "    <tr style=\"text-align: right;\">\n",
       "      <th></th>\n",
       "      <th>integer_col</th>\n",
       "      <th>float_col</th>\n",
       "      <th>double_col</th>\n",
       "      <th>decimal_col</th>\n",
       "      <th>string_col</th>\n",
       "      <th>boolean_col</th>\n",
       "      <th>timestamp_col</th>\n",
       "      <th>date_col</th>\n",
       "      <th>datetime_with_timezone_col</th>\n",
       "    </tr>\n",
       "  </thead>\n",
       "  <tbody>\n",
       "    <tr>\n",
       "      <th>0</th>\n",
       "      <td>1</td>\n",
       "      <td>1.1</td>\n",
       "      <td>1.111111</td>\n",
       "      <td>0.12345</td>\n",
       "      <td>apple</td>\n",
       "      <td>True</td>\n",
       "      <td>2022-01-01</td>\n",
       "      <td>2022-01-01</td>\n",
       "      <td>2022-01-01 12:00:00+00:00</td>\n",
       "    </tr>\n",
       "    <tr>\n",
       "      <th>1</th>\n",
       "      <td>2</td>\n",
       "      <td>2.2</td>\n",
       "      <td>2.222222</td>\n",
       "      <td>0.23456</td>\n",
       "      <td>banana</td>\n",
       "      <td>False</td>\n",
       "      <td>2022-01-02</td>\n",
       "      <td>2022-01-02</td>\n",
       "      <td>2022-01-02 12:00:00+00:00</td>\n",
       "    </tr>\n",
       "    <tr>\n",
       "      <th>2</th>\n",
       "      <td>3</td>\n",
       "      <td>3.3</td>\n",
       "      <td>3.333333</td>\n",
       "      <td>0.34567</td>\n",
       "      <td>orange</td>\n",
       "      <td>True</td>\n",
       "      <td>2022-01-03</td>\n",
       "      <td>2022-01-03</td>\n",
       "      <td>2022-01-03 12:00:00+00:00</td>\n",
       "    </tr>\n",
       "  </tbody>\n",
       "</table>\n",
       "</div>"
      ],
      "text/plain": [
       "   integer_col  float_col  double_col  decimal_col string_col  boolean_col  \\\n",
       "0            1        1.1    1.111111      0.12345      apple         True   \n",
       "1            2        2.2    2.222222      0.23456     banana        False   \n",
       "2            3        3.3    3.333333      0.34567     orange         True   \n",
       "\n",
       "  timestamp_col    date_col datetime_with_timezone_col  \n",
       "0    2022-01-01  2022-01-01  2022-01-01 12:00:00+00:00  \n",
       "1    2022-01-02  2022-01-02  2022-01-02 12:00:00+00:00  \n",
       "2    2022-01-03  2022-01-03  2022-01-03 12:00:00+00:00  "
      ]
     },
     "execution_count": 2,
     "metadata": {},
     "output_type": "execute_result"
    }
   ],
   "source": [
    "data = {\n",
    "    'integer_col': [1, 2, 3],\n",
    "    'float_col': [1.1, 2.2, 3.3],\n",
    "    'double_col': [1.111111111, 2.222222222, 3.333333333],  # Double datatype column\n",
    "    'decimal_col': [0.12345, 0.23456, 0.34567],  # Decimal datatype column\n",
    "    'string_col': ['apple', 'banana', 'orange'],\n",
    "    'boolean_col': [True, False, True],\n",
    "    'timestamp_col': [pd.Timestamp('2022-01-01'), pd.Timestamp('2022-01-02'), pd.Timestamp('2022-01-03')],\n",
    "    'date_col': [pd.Timestamp('2022-01-01').date(), pd.Timestamp('2022-01-02').date(), pd.Timestamp('2022-01-03').date()],\n",
    "    'datetime_with_timezone_col': [\n",
    "        pd.Timestamp('2022-01-01 12:00:00', tz='UTC'),\n",
    "        pd.Timestamp('2022-01-02 12:00:00', tz='UTC'),\n",
    "        pd.Timestamp('2022-01-03 12:00:00', tz='UTC')\n",
    "    ]\n",
    "}\n",
    "\n",
    "# Create DataFrame\n",
    "df = pd.DataFrame(data)\n",
    "\n",
    "# Display DataFrame\n",
    "df.head()\n"
   ]
  },
  {
   "cell_type": "code",
   "execution_count": 3,
   "id": "0b026c6a",
   "metadata": {},
   "outputs": [
    {
     "name": "stdout",
     "output_type": "stream",
     "text": [
      "<class 'pandas.core.frame.DataFrame'>\n",
      "RangeIndex: 3 entries, 0 to 2\n",
      "Data columns (total 9 columns):\n",
      " #   Column                      Non-Null Count  Dtype              \n",
      "---  ------                      --------------  -----              \n",
      " 0   integer_col                 3 non-null      int64              \n",
      " 1   float_col                   3 non-null      float64            \n",
      " 2   double_col                  3 non-null      float64            \n",
      " 3   decimal_col                 3 non-null      float64            \n",
      " 4   string_col                  3 non-null      object             \n",
      " 5   boolean_col                 3 non-null      bool               \n",
      " 6   timestamp_col               3 non-null      datetime64[ns]     \n",
      " 7   date_col                    3 non-null      object             \n",
      " 8   datetime_with_timezone_col  3 non-null      datetime64[ns, UTC]\n",
      "dtypes: bool(1), datetime64[ns, UTC](1), datetime64[ns](1), float64(3), int64(1), object(2)\n",
      "memory usage: 323.0+ bytes\n"
     ]
    }
   ],
   "source": [
    "df.info()"
   ]
  },
  {
   "cell_type": "markdown",
   "id": "7c636400",
   "metadata": {},
   "source": [
    " - integer_col: Contains integer values (int64 data type).\n",
    " - float_col: Contains floating-point values (float64 data type).\n",
    " - string_col: Contains string values (object data type).\n",
    " - boolean_col: Contains boolean values (bool data type).\n",
    " - timestamp_col: Contains timestamp values (datetime64[ns] data type).\n",
    " - datetime64[ns, UTC]"
   ]
  },
  {
   "cell_type": "code",
   "execution_count": 5,
   "id": "faceff41",
   "metadata": {},
   "outputs": [],
   "source": [
    "# Assuming df is your Pandas DataFrame\n",
    "# Define the filename and folder path\n",
    "filename = 'test_bg_df_sample_data.parquet'\n",
    "folder_path = '/Users/leonsmith/explore/fs/assetinsure/asset_secure/fs-as-disc/'  # Replace this with your actual folder path\n",
    "\n",
    "# Write DataFrame to a Parquet file in the specified folder\n",
    "df.to_parquet(folder_path + filename)"
   ]
  },
  {
   "cell_type": "code",
   "execution_count": 15,
   "id": "9e66bf6b",
   "metadata": {},
   "outputs": [],
   "source": [
    "def upload_blob(bucket_name, source_file_name, destination_blob_name):\n",
    "    \"\"\"Uploads a file to the bucket.\"\"\"\n",
    "#     The ID of your GCS bucket\n",
    "#     bucket_name = \"fs-assetsecure-testing\"\n",
    "#     The path to your file to upload\n",
    "#     source_file_name = \"Users/leonsmith/explore/fs/assetinsure/asset_secure/fs-as-disc/test_bg_df_sample_data.parquet\"\n",
    "#     The ID of your GCS object\n",
    "#     destination_blob_name = \"test_bg_df_sample_data.parquet\"\n",
    "\n",
    "    storage_client = storage.Client()\n",
    "    bucket = storage_client.bucket(bucket_name)\n",
    "    blob = bucket.blob(destination_blob_name)\n",
    "\n",
    "    # Optional: set a generation-match precondition to avoid potential race conditions\n",
    "    # and data corruptions. The request to upload is aborted if the object's\n",
    "    # generation number does not match your precondition. For a destination\n",
    "    # object that does not yet exist, set the if_generation_match precondition to 0.\n",
    "    # If the destination object already exists in your bucket, set instead a\n",
    "    # generation-match precondition using its generation number.\n",
    "    generation_match_precondition = 0\n",
    "\n",
    "    blob.upload_from_filename(source_file_name, if_generation_match=generation_match_precondition)\n",
    "\n",
    "    print(\n",
    "        f\"File {source_file_name} uploaded to {destination_blob_name}.\"\n",
    "    )\n"
   ]
  },
  {
   "cell_type": "code",
   "execution_count": 16,
   "id": "62ec5704",
   "metadata": {},
   "outputs": [],
   "source": [
    "# The ID of your GCS bucket\n",
    "bucket_name = \"fs-assetsecure-testing\"\n",
    "# The path to your file to upload\n",
    "source_file_name = folder_path + filename\n",
    "# The ID of your GCS object\n",
    "destination_blob_name = \"test_bg_df_sample_data.parquet\""
   ]
  },
  {
   "cell_type": "code",
   "execution_count": 17,
   "id": "c6c51fb2",
   "metadata": {},
   "outputs": [
    {
     "name": "stdout",
     "output_type": "stream",
     "text": [
      "File /Users/leonsmith/explore/fs/assetinsure/asset_secure/fs-as-disc/test_bg_df_sample_data.parquet uploaded to test_bg_df_sample_data.parquet.\n"
     ]
    }
   ],
   "source": [
    "upload_blob(bucket_name, source_file_name, destination_blob_name)"
   ]
  },
  {
   "cell_type": "code",
   "execution_count": null,
   "id": "85a10f07",
   "metadata": {},
   "outputs": [],
   "source": []
  }
 ],
 "metadata": {
  "kernelspec": {
   "display_name": "Python 3 (ipykernel)",
   "language": "python",
   "name": "python3"
  },
  "language_info": {
   "codemirror_mode": {
    "name": "ipython",
    "version": 3
   },
   "file_extension": ".py",
   "mimetype": "text/x-python",
   "name": "python",
   "nbconvert_exporter": "python",
   "pygments_lexer": "ipython3",
   "version": "3.10.4"
  }
 },
 "nbformat": 4,
 "nbformat_minor": 5
}
