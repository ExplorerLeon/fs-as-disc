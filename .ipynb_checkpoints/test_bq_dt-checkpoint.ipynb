{
 "cells": [
  {
   "cell_type": "code",
   "execution_count": 2,
   "id": "f0c31675",
   "metadata": {},
   "outputs": [],
   "source": [
    "import pandas as pd\n",
    "import numpy as np\n",
    "\n",
    "from google.cloud import storage"
   ]
  },
  {
   "cell_type": "markdown",
   "id": "5a131368",
   "metadata": {},
   "source": [
    "**Data 1**"
   ]
  },
  {
   "cell_type": "code",
   "execution_count": 3,
   "id": "67db8ca4",
   "metadata": {},
   "outputs": [
    {
     "data": {
      "text/html": [
       "<div>\n",
       "<style scoped>\n",
       "    .dataframe tbody tr th:only-of-type {\n",
       "        vertical-align: middle;\n",
       "    }\n",
       "\n",
       "    .dataframe tbody tr th {\n",
       "        vertical-align: top;\n",
       "    }\n",
       "\n",
       "    .dataframe thead th {\n",
       "        text-align: right;\n",
       "    }\n",
       "</style>\n",
       "<table border=\"1\" class=\"dataframe\">\n",
       "  <thead>\n",
       "    <tr style=\"text-align: right;\">\n",
       "      <th></th>\n",
       "      <th>primary_key</th>\n",
       "      <th>integer_col</th>\n",
       "      <th>float_col</th>\n",
       "      <th>double_col</th>\n",
       "      <th>decimal_col</th>\n",
       "      <th>string_col</th>\n",
       "      <th>boolean_col</th>\n",
       "      <th>timestamp_col</th>\n",
       "      <th>date_col</th>\n",
       "      <th>datetime_with_timezone_col</th>\n",
       "    </tr>\n",
       "  </thead>\n",
       "  <tbody>\n",
       "    <tr>\n",
       "      <th>0</th>\n",
       "      <td>1</td>\n",
       "      <td>22</td>\n",
       "      <td>1.1</td>\n",
       "      <td>1.111111</td>\n",
       "      <td>0.12345</td>\n",
       "      <td>apple</td>\n",
       "      <td>True</td>\n",
       "      <td>2022-01-01</td>\n",
       "      <td>2022-01-01</td>\n",
       "      <td>2022-01-01 12:00:00+00:00</td>\n",
       "    </tr>\n",
       "    <tr>\n",
       "      <th>1</th>\n",
       "      <td>2</td>\n",
       "      <td>33</td>\n",
       "      <td>2.2</td>\n",
       "      <td>2.222222</td>\n",
       "      <td>0.23456</td>\n",
       "      <td>banana</td>\n",
       "      <td>False</td>\n",
       "      <td>2022-01-02</td>\n",
       "      <td>2022-01-02</td>\n",
       "      <td>2022-01-02 12:00:00+00:00</td>\n",
       "    </tr>\n",
       "    <tr>\n",
       "      <th>2</th>\n",
       "      <td>3</td>\n",
       "      <td>44</td>\n",
       "      <td>3.3</td>\n",
       "      <td>3.333333</td>\n",
       "      <td>0.34567</td>\n",
       "      <td>orange</td>\n",
       "      <td>True</td>\n",
       "      <td>2022-01-03</td>\n",
       "      <td>2022-01-03</td>\n",
       "      <td>2022-01-03 12:00:00+00:00</td>\n",
       "    </tr>\n",
       "  </tbody>\n",
       "</table>\n",
       "</div>"
      ],
      "text/plain": [
       "   primary_key  integer_col  float_col  double_col  decimal_col string_col  \\\n",
       "0            1           22        1.1    1.111111      0.12345      apple   \n",
       "1            2           33        2.2    2.222222      0.23456     banana   \n",
       "2            3           44        3.3    3.333333      0.34567     orange   \n",
       "\n",
       "   boolean_col timestamp_col    date_col datetime_with_timezone_col  \n",
       "0         True    2022-01-01  2022-01-01  2022-01-01 12:00:00+00:00  \n",
       "1        False    2022-01-02  2022-01-02  2022-01-02 12:00:00+00:00  \n",
       "2         True    2022-01-03  2022-01-03  2022-01-03 12:00:00+00:00  "
      ]
     },
     "execution_count": 3,
     "metadata": {},
     "output_type": "execute_result"
    }
   ],
   "source": [
    "# Original Data - getting historic data in\n",
    "data = {\n",
    "    'primary_key': [1, 2, 3],\n",
    "    'integer_col': [22, 33, 44],\n",
    "    'float_col': [1.1, 2.2, 3.3],\n",
    "    'double_col': [1.111111111, 2.222222222, 3.333333333],  # Double datatype column\n",
    "    'decimal_col': [0.12345, 0.23456, 0.34567],  # Decimal datatype column\n",
    "    'string_col': ['apple', 'banana', 'orange'],\n",
    "    'boolean_col': [True, False, True],\n",
    "    'timestamp_col': [pd.Timestamp('2022-01-01'), pd.Timestamp('2022-01-02'), pd.Timestamp('2022-01-03')],\n",
    "    'date_col': [pd.Timestamp('2022-01-01').date(), pd.Timestamp('2022-01-02').date(), pd.Timestamp('2022-01-03').date()],\n",
    "    'datetime_with_timezone_col': [\n",
    "        pd.Timestamp('2022-01-01 12:00:00', tz='UTC'),\n",
    "        pd.Timestamp('2022-01-02 12:00:00', tz='UTC'),\n",
    "        pd.Timestamp('2022-01-03 12:00:00', tz='UTC')\n",
    "    ]\n",
    "}\n",
    "\n",
    "# Create DataFrame\n",
    "df = pd.DataFrame(data)\n",
    "\n",
    "# Display DataFrame\n",
    "df.head()\n"
   ]
  },
  {
   "cell_type": "code",
   "execution_count": 7,
   "id": "3171b7cb",
   "metadata": {},
   "outputs": [
    {
     "name": "stdout",
     "output_type": "stream",
     "text": [
      "<class 'pandas.core.frame.DataFrame'>\n",
      "RangeIndex: 3 entries, 0 to 2\n",
      "Data columns (total 10 columns):\n",
      " #   Column                      Non-Null Count  Dtype              \n",
      "---  ------                      --------------  -----              \n",
      " 0   primary_key                 3 non-null      int64              \n",
      " 1   integer_col                 3 non-null      int64              \n",
      " 2   float_col                   3 non-null      float64            \n",
      " 3   double_col                  3 non-null      float64            \n",
      " 4   decimal_col                 3 non-null      float64            \n",
      " 5   string_col                  3 non-null      object             \n",
      " 6   boolean_col                 3 non-null      bool               \n",
      " 7   timestamp_col               3 non-null      datetime64[ns]     \n",
      " 8   date_col                    3 non-null      object             \n",
      " 9   datetime_with_timezone_col  3 non-null      datetime64[ns, UTC]\n",
      "dtypes: bool(1), datetime64[ns, UTC](1), datetime64[ns](1), float64(3), int64(2), object(2)\n",
      "memory usage: 347.0+ bytes\n"
     ]
    }
   ],
   "source": [
    "df.info()"
   ]
  },
  {
   "cell_type": "code",
   "execution_count": 13,
   "id": "53c40ce5",
   "metadata": {},
   "outputs": [],
   "source": [
    "# Assuming df is your Pandas DataFrame\n",
    "# Define the filename and folder path\n",
    "filename = 'test_bg_df_sample_historic_data.parquet'\n",
    "folder_path = '/Users/leonsmith/explore/fs/assetinsure/asset_secure/fs-as-disc/'  # Replace this with your actual folder path\n",
    "\n",
    "# Write DataFrame to a Parquet file in the specified folder\n",
    "df.to_parquet(folder_path + filename)"
   ]
  },
  {
   "cell_type": "code",
   "execution_count": 9,
   "id": "9e66bf6b",
   "metadata": {},
   "outputs": [],
   "source": [
    "def upload_blob(bucket_name, source_file_name, destination_blob_name):\n",
    "    \"\"\"Uploads a file to the bucket.\"\"\"\n",
    "#     The ID of your GCS bucket\n",
    "#     bucket_name = \"fs-assetsecure-testing\"\n",
    "#     The path to your file to upload\n",
    "#     source_file_name = \"Users/leonsmith/explore/fs/assetinsure/asset_secure/fs-as-disc/test_bg_df_sample_data.parquet\"\n",
    "#     The ID of your GCS object\n",
    "#     destination_blob_name = \"test_bg_df_sample_data.parquet\"\n",
    "\n",
    "    storage_client = storage.Client()\n",
    "    bucket = storage_client.bucket(bucket_name)\n",
    "    blob = bucket.blob(destination_blob_name)\n",
    "\n",
    "    # Optional: set a generation-match precondition to avoid potential race conditions\n",
    "    # and data corruptions. The request to upload is aborted if the object's\n",
    "    # generation number does not match your precondition. For a destination\n",
    "    # object that does not yet exist, set the if_generation_match precondition to 0.\n",
    "    # If the destination object already exists in your bucket, set instead a\n",
    "    # generation-match precondition using its generation number.\n",
    "    generation_match_precondition = blob.generation\n",
    "\n",
    "    blob.upload_from_filename(source_file_name, if_generation_match=generation_match_precondition)\n",
    "\n",
    "    print(\n",
    "        f\"File {source_file_name} uploaded to {destination_blob_name}.\"\n",
    "    )\n"
   ]
  },
  {
   "cell_type": "code",
   "execution_count": 10,
   "id": "62ec5704",
   "metadata": {},
   "outputs": [],
   "source": [
    "# The ID of your GCS bucket\n",
    "bucket_name = \"fs-assetsecure-testing\"\n",
    "# The path to your file to upload\n",
    "source_file_name = folder_path + filename\n",
    "# The ID of your GCS object\n",
    "destination_blob_name = \"test_bg_df_sample_historic_data.parquet\""
   ]
  },
  {
   "cell_type": "code",
   "execution_count": 11,
   "id": "c6c51fb2",
   "metadata": {},
   "outputs": [
    {
     "name": "stdout",
     "output_type": "stream",
     "text": [
      "File /Users/leonsmith/explore/fs/assetinsure/asset_secure/fs-as-disc/test_bg_df_sample_data.parquet uploaded to test_bg_df_sample_historic_data.parquet.\n"
     ]
    }
   ],
   "source": [
    "upload_blob(bucket_name, source_file_name, destination_blob_name)"
   ]
  },
  {
   "cell_type": "code",
   "execution_count": 12,
   "id": "a8f1b6b7",
   "metadata": {},
   "outputs": [
    {
     "data": {
      "text/html": [
       "<div>\n",
       "<style scoped>\n",
       "    .dataframe tbody tr th:only-of-type {\n",
       "        vertical-align: middle;\n",
       "    }\n",
       "\n",
       "    .dataframe tbody tr th {\n",
       "        vertical-align: top;\n",
       "    }\n",
       "\n",
       "    .dataframe thead th {\n",
       "        text-align: right;\n",
       "    }\n",
       "</style>\n",
       "<table border=\"1\" class=\"dataframe\">\n",
       "  <thead>\n",
       "    <tr style=\"text-align: right;\">\n",
       "      <th></th>\n",
       "      <th>primary_key</th>\n",
       "      <th>integer_col</th>\n",
       "      <th>float_col</th>\n",
       "      <th>double_col</th>\n",
       "      <th>decimal_col</th>\n",
       "      <th>string_col</th>\n",
       "      <th>boolean_col</th>\n",
       "      <th>timestamp_col</th>\n",
       "      <th>date_col</th>\n",
       "      <th>datetime_with_timezone_col</th>\n",
       "    </tr>\n",
       "  </thead>\n",
       "  <tbody>\n",
       "    <tr>\n",
       "      <th>0</th>\n",
       "      <td>4</td>\n",
       "      <td>44</td>\n",
       "      <td>4.4</td>\n",
       "      <td>4.444444</td>\n",
       "      <td>0.45678</td>\n",
       "      <td>grape</td>\n",
       "      <td>False</td>\n",
       "      <td>2022-01-04</td>\n",
       "      <td>2022-01-04</td>\n",
       "      <td>2022-01-04 12:00:00+00:00</td>\n",
       "    </tr>\n",
       "    <tr>\n",
       "      <th>1</th>\n",
       "      <td>5</td>\n",
       "      <td>55</td>\n",
       "      <td>5.5</td>\n",
       "      <td>5.555556</td>\n",
       "      <td>0.56789</td>\n",
       "      <td>pineapple</td>\n",
       "      <td>True</td>\n",
       "      <td>2022-01-05</td>\n",
       "      <td>2022-01-05</td>\n",
       "      <td>2022-01-05 12:00:00+00:00</td>\n",
       "    </tr>\n",
       "  </tbody>\n",
       "</table>\n",
       "</div>"
      ],
      "text/plain": [
       "   primary_key  integer_col  float_col  double_col  decimal_col string_col  \\\n",
       "0            4           44        4.4    4.444444      0.45678      grape   \n",
       "1            5           55        5.5    5.555556      0.56789  pineapple   \n",
       "\n",
       "   boolean_col timestamp_col    date_col datetime_with_timezone_col  \n",
       "0        False    2022-01-04  2022-01-04  2022-01-04 12:00:00+00:00  \n",
       "1         True    2022-01-05  2022-01-05  2022-01-05 12:00:00+00:00  "
      ]
     },
     "execution_count": 12,
     "metadata": {},
     "output_type": "execute_result"
    }
   ],
   "source": [
    "# Additional data to be added - only taking the delta changes of data and creating new file to use\n",
    "additional_data = {\n",
    "    'primary_key': [4, 5],\n",
    "    'integer_col': [44, 55],\n",
    "    'float_col': [4.4, 5.5],\n",
    "    'double_col': [4.444444444, 5.555555555],  # Double datatype column\n",
    "    'decimal_col': [0.45678, 0.56789],  # Decimal datatype column\n",
    "    'string_col': ['grape', 'pineapple'],\n",
    "    'boolean_col': [False, True],\n",
    "    'timestamp_col': [pd.Timestamp('2022-01-04'), pd.Timestamp('2022-01-05')],\n",
    "    'date_col': [pd.Timestamp('2022-01-04').date(), pd.Timestamp('2022-01-05').date()],\n",
    "    'datetime_with_timezone_col': [\n",
    "        pd.Timestamp('2022-01-04 12:00:00', tz='UTC'),\n",
    "        pd.Timestamp('2022-01-05 12:00:00', tz='UTC')\n",
    "    ]\n",
    "}\n",
    "\n",
    "# Create DataFrame for additional data\n",
    "additional_df = pd.DataFrame(additional_data)\n",
    "\n",
    "\n",
    "# Displat DataFrame\n",
    "additional_df.head()"
   ]
  },
  {
   "cell_type": "markdown",
   "id": "7c636400",
   "metadata": {},
   "source": [
    " - integer_col: Contains integer values (int64 data type).\n",
    " - float_col: Contains floating-point values (float64 data type).\n",
    " - string_col: Contains string values (object data type).\n",
    " - boolean_col: Contains boolean values (bool data type).\n",
    " - timestamp_col: Contains timestamp values (datetime64[ns] data type).\n",
    " - datetime64[ns, UTC]"
   ]
  },
  {
   "cell_type": "code",
   "execution_count": 14,
   "id": "faceff41",
   "metadata": {},
   "outputs": [],
   "source": [
    "# Assuming df is your Pandas DataFrame\n",
    "# Define the filename and folder path\n",
    "filename = 'test_bg_df_sample_delta_data.parquet'\n",
    "folder_path = '/Users/leonsmith/explore/fs/assetinsure/asset_secure/fs-as-disc/'  # Replace this with your actual folder path\n",
    "\n",
    "# Write DataFrame to a Parquet file in the specified folder\n",
    "additional_df.to_parquet(folder_path + filename)"
   ]
  },
  {
   "cell_type": "code",
   "execution_count": 15,
   "id": "7286b60e",
   "metadata": {},
   "outputs": [],
   "source": [
    "# The ID of your GCS bucket\n",
    "bucket_name = \"fs-assetsecure-testing\"\n",
    "# The path to your file to upload\n",
    "source_file_name = folder_path + filename\n",
    "# The ID of your GCS object\n",
    "destination_blob_name = \"test_bg_df_sample_delta_data.parquet\""
   ]
  },
  {
   "cell_type": "code",
   "execution_count": 16,
   "id": "1ebac326",
   "metadata": {},
   "outputs": [
    {
     "name": "stdout",
     "output_type": "stream",
     "text": [
      "File /Users/leonsmith/explore/fs/assetinsure/asset_secure/fs-as-disc/test_bg_df_sample_delta_data.parquet uploaded to test_bg_df_sample_delta_data.parquet.\n"
     ]
    }
   ],
   "source": [
    "upload_blob(bucket_name, source_file_name, destination_blob_name)"
   ]
  },
  {
   "cell_type": "markdown",
   "id": "919c46a9",
   "metadata": {},
   "source": [
    "**Data 2**"
   ]
  },
  {
   "cell_type": "code",
   "execution_count": 3,
   "id": "f2def2e6",
   "metadata": {},
   "outputs": [
    {
     "data": {
      "text/html": [
       "<div>\n",
       "<style scoped>\n",
       "    .dataframe tbody tr th:only-of-type {\n",
       "        vertical-align: middle;\n",
       "    }\n",
       "\n",
       "    .dataframe tbody tr th {\n",
       "        vertical-align: top;\n",
       "    }\n",
       "\n",
       "    .dataframe thead th {\n",
       "        text-align: right;\n",
       "    }\n",
       "</style>\n",
       "<table border=\"1\" class=\"dataframe\">\n",
       "  <thead>\n",
       "    <tr style=\"text-align: right;\">\n",
       "      <th></th>\n",
       "      <th>primary_key</th>\n",
       "      <th>other_integer_col</th>\n",
       "      <th>other_float_col</th>\n",
       "      <th>other_decimal_col</th>\n",
       "      <th>other_string_col</th>\n",
       "      <th>other_boolean_col</th>\n",
       "    </tr>\n",
       "  </thead>\n",
       "  <tbody>\n",
       "    <tr>\n",
       "      <th>0</th>\n",
       "      <td>3</td>\n",
       "      <td>666</td>\n",
       "      <td>9.5</td>\n",
       "      <td>0.987000</td>\n",
       "      <td>brocolli</td>\n",
       "      <td>False</td>\n",
       "    </tr>\n",
       "    <tr>\n",
       "      <th>1</th>\n",
       "      <td>1</td>\n",
       "      <td>33333</td>\n",
       "      <td>4.6</td>\n",
       "      <td>0.278501</td>\n",
       "      <td>spinach</td>\n",
       "      <td>True</td>\n",
       "    </tr>\n",
       "    <tr>\n",
       "      <th>2</th>\n",
       "      <td>2</td>\n",
       "      <td>5435</td>\n",
       "      <td>8.8</td>\n",
       "      <td>0.084794</td>\n",
       "      <td>carrot</td>\n",
       "      <td>False</td>\n",
       "    </tr>\n",
       "  </tbody>\n",
       "</table>\n",
       "</div>"
      ],
      "text/plain": [
       "   primary_key  other_integer_col  other_float_col  other_decimal_col  \\\n",
       "0            3                666              9.5           0.987000   \n",
       "1            1              33333              4.6           0.278501   \n",
       "2            2               5435              8.8           0.084794   \n",
       "\n",
       "  other_string_col  other_boolean_col  \n",
       "0         brocolli              False  \n",
       "1          spinach               True  \n",
       "2           carrot              False  "
      ]
     },
     "execution_count": 3,
     "metadata": {},
     "output_type": "execute_result"
    }
   ],
   "source": [
    "# Original Data - getting historic data in\n",
    "data = {\n",
    "    'primary_key': [3, 1, 2],\n",
    "    'other_integer_col': [666, 33333, 5435],\n",
    "    'other_float_col': [9.5, 4.6, 8.8],\n",
    "    'other_decimal_col': [0.987, 0.278501, 0.0847936],  # Decimal datatype column\n",
    "    'other_string_col': ['brocolli', 'spinach', 'carrot'],\n",
    "    'other_boolean_col': [False, True, False],\n",
    "}\n",
    "\n",
    "# Create DataFrame\n",
    "df_2 = pd.DataFrame(data)\n",
    "\n",
    "# Display DataFrame\n",
    "df_2.head()\n"
   ]
  },
  {
   "cell_type": "code",
   "execution_count": 5,
   "id": "eaedd585",
   "metadata": {},
   "outputs": [
    {
     "name": "stdout",
     "output_type": "stream",
     "text": [
      "<class 'pandas.core.frame.DataFrame'>\n",
      "RangeIndex: 3 entries, 0 to 2\n",
      "Data columns (total 6 columns):\n",
      " #   Column             Non-Null Count  Dtype  \n",
      "---  ------             --------------  -----  \n",
      " 0   primary_key        3 non-null      int64  \n",
      " 1   other_integer_col  3 non-null      int64  \n",
      " 2   other_float_col    3 non-null      float64\n",
      " 3   other_decimal_col  3 non-null      float64\n",
      " 4   other_string_col   3 non-null      object \n",
      " 5   other_boolean_col  3 non-null      bool   \n",
      "dtypes: bool(1), float64(2), int64(2), object(1)\n",
      "memory usage: 251.0+ bytes\n"
     ]
    }
   ],
   "source": [
    "df_2.info()"
   ]
  },
  {
   "cell_type": "code",
   "execution_count": 7,
   "id": "02dce955",
   "metadata": {},
   "outputs": [],
   "source": [
    "# Assuming df is your Pandas DataFrame\n",
    "# Define the filename and folder path\n",
    "filename = 'test_bg_df_sample2_historic_data.parquet'\n",
    "folder_path = '/Users/leonsmith/explore/fs/assetinsure/asset_secure/fs-as-disc/'  # Replace this with your actual folder path\n",
    "\n",
    "# Write DataFrame to a Parquet file in the specified folder\n",
    "df_2.to_parquet(folder_path + filename)"
   ]
  },
  {
   "cell_type": "code",
   "execution_count": 8,
   "id": "2d4b0263",
   "metadata": {},
   "outputs": [],
   "source": [
    "def upload_blob(bucket_name, source_file_name, destination_blob_name):\n",
    "    \"\"\"Uploads a file to the bucket.\"\"\"\n",
    "#     The ID of your GCS bucket\n",
    "#     bucket_name = \"fs-assetsecure-testing\"\n",
    "#     The path to your file to upload\n",
    "#     source_file_name = \"Users/leonsmith/explore/fs/assetinsure/asset_secure/fs-as-disc/test_bg_df_sample_data.parquet\"\n",
    "#     The ID of your GCS object\n",
    "#     destination_blob_name = \"test_bg_df_sample_data.parquet\"\n",
    "\n",
    "    storage_client = storage.Client()\n",
    "    bucket = storage_client.bucket(bucket_name)\n",
    "    blob = bucket.blob(destination_blob_name)\n",
    "\n",
    "    # Optional: set a generation-match precondition to avoid potential race conditions\n",
    "    # and data corruptions. The request to upload is aborted if the object's\n",
    "    # generation number does not match your precondition. For a destination\n",
    "    # object that does not yet exist, set the if_generation_match precondition to 0.\n",
    "    # If the destination object already exists in your bucket, set instead a\n",
    "    # generation-match precondition using its generation number.\n",
    "    generation_match_precondition = blob.generation\n",
    "\n",
    "    blob.upload_from_filename(source_file_name, if_generation_match=generation_match_precondition)\n",
    "\n",
    "    print(\n",
    "        f\"File {source_file_name} uploaded to {destination_blob_name}.\"\n",
    "    )\n"
   ]
  },
  {
   "cell_type": "code",
   "execution_count": 9,
   "id": "864de152",
   "metadata": {},
   "outputs": [],
   "source": [
    "# The ID of your GCS bucket\n",
    "bucket_name = \"fs-assetsecure-testing\"\n",
    "# The path to your file to upload\n",
    "source_file_name = folder_path + filename\n",
    "# The ID of your GCS object\n",
    "destination_blob_name = \"test_bg_df_sample2_historic_data.parquet\""
   ]
  },
  {
   "cell_type": "code",
   "execution_count": 10,
   "id": "932f6224",
   "metadata": {},
   "outputs": [
    {
     "name": "stdout",
     "output_type": "stream",
     "text": [
      "File /Users/leonsmith/explore/fs/assetinsure/asset_secure/fs-as-disc/test_bg_df_sample2_historic_data.parquet uploaded to test_bg_df_sample2_historic_data.parquet.\n"
     ]
    }
   ],
   "source": [
    "upload_blob(bucket_name, source_file_name, destination_blob_name)"
   ]
  },
  {
   "cell_type": "code",
   "execution_count": 6,
   "id": "a7788348",
   "metadata": {},
   "outputs": [
    {
     "data": {
      "text/html": [
       "<div>\n",
       "<style scoped>\n",
       "    .dataframe tbody tr th:only-of-type {\n",
       "        vertical-align: middle;\n",
       "    }\n",
       "\n",
       "    .dataframe tbody tr th {\n",
       "        vertical-align: top;\n",
       "    }\n",
       "\n",
       "    .dataframe thead th {\n",
       "        text-align: right;\n",
       "    }\n",
       "</style>\n",
       "<table border=\"1\" class=\"dataframe\">\n",
       "  <thead>\n",
       "    <tr style=\"text-align: right;\">\n",
       "      <th></th>\n",
       "      <th>primary_key</th>\n",
       "      <th>other_integer_col</th>\n",
       "      <th>other_float_col</th>\n",
       "      <th>other_decimal_col</th>\n",
       "      <th>other_string_col</th>\n",
       "      <th>other_boolean_col</th>\n",
       "    </tr>\n",
       "  </thead>\n",
       "  <tbody>\n",
       "    <tr>\n",
       "      <th>0</th>\n",
       "      <td>5</td>\n",
       "      <td>43</td>\n",
       "      <td>24.5</td>\n",
       "      <td>0.84693</td>\n",
       "      <td>aartappel</td>\n",
       "      <td>False</td>\n",
       "    </tr>\n",
       "    <tr>\n",
       "      <th>1</th>\n",
       "      <td>4</td>\n",
       "      <td>56</td>\n",
       "      <td>98.6</td>\n",
       "      <td>0.33420</td>\n",
       "      <td>brusselsprout</td>\n",
       "      <td>False</td>\n",
       "    </tr>\n",
       "  </tbody>\n",
       "</table>\n",
       "</div>"
      ],
      "text/plain": [
       "   primary_key  other_integer_col  other_float_col  other_decimal_col  \\\n",
       "0            5                 43             24.5            0.84693   \n",
       "1            4                 56             98.6            0.33420   \n",
       "\n",
       "  other_string_col  other_boolean_col  \n",
       "0        aartappel              False  \n",
       "1    brusselsprout              False  "
      ]
     },
     "execution_count": 6,
     "metadata": {},
     "output_type": "execute_result"
    }
   ],
   "source": [
    "# Additional data to be added - only taking the delta changes of data and creating new file to use\n",
    "additional_data = {\n",
    "    'primary_key': [5, 4],\n",
    "    'other_integer_col': [43, 56],\n",
    "    'other_float_col': [24.5, 98.6],\n",
    "    'other_decimal_col': [0.84693, 0.3342],  # Decimal datatype column\n",
    "    'other_string_col': ['aartappel', 'brusselsprout'],\n",
    "    'other_boolean_col': [False, False],\n",
    "}\n",
    "\n",
    "# Create DataFrame for additional data\n",
    "additional_df2 = pd.DataFrame(additional_data)\n",
    "\n",
    "\n",
    "# Displat DataFrame\n",
    "additional_df2.head()"
   ]
  },
  {
   "cell_type": "markdown",
   "id": "b814b35f",
   "metadata": {},
   "source": [
    " - integer_col: Contains integer values (int64 data type).\n",
    " - float_col: Contains floating-point values (float64 data type).\n",
    " - string_col: Contains string values (object data type).\n",
    " - boolean_col: Contains boolean values (bool data type).\n",
    " - timestamp_col: Contains timestamp values (datetime64[ns] data type).\n",
    " - datetime64[ns, UTC]"
   ]
  },
  {
   "cell_type": "code",
   "execution_count": 11,
   "id": "82b02a33",
   "metadata": {},
   "outputs": [],
   "source": [
    "# Assuming df is your Pandas DataFrame\n",
    "# Define the filename and folder path\n",
    "filename = 'test_bg_df_sample2_delta_data.parquet'\n",
    "folder_path = '/Users/leonsmith/explore/fs/assetinsure/asset_secure/fs-as-disc/'  # Replace this with your actual folder path\n",
    "\n",
    "# Write DataFrame to a Parquet file in the specified folder\n",
    "additional_df2.to_parquet(folder_path + filename)"
   ]
  },
  {
   "cell_type": "code",
   "execution_count": 12,
   "id": "9da036d0",
   "metadata": {},
   "outputs": [],
   "source": [
    "# The ID of your GCS bucket\n",
    "bucket_name = \"fs-assetsecure-testing\"\n",
    "# The path to your file to upload\n",
    "source_file_name = folder_path + filename\n",
    "# The ID of your GCS object\n",
    "destination_blob_name = \"test_bg_df_sample2_delta_data.parquet\""
   ]
  },
  {
   "cell_type": "code",
   "execution_count": 13,
   "id": "22d16725",
   "metadata": {},
   "outputs": [
    {
     "name": "stdout",
     "output_type": "stream",
     "text": [
      "File /Users/leonsmith/explore/fs/assetinsure/asset_secure/fs-as-disc/test_bg_df_sample2_delta_data.parquet uploaded to test_bg_df_sample2_delta_data.parquet.\n"
     ]
    }
   ],
   "source": [
    "upload_blob(bucket_name, source_file_name, destination_blob_name)"
   ]
  },
  {
   "cell_type": "code",
   "execution_count": null,
   "id": "85a10f07",
   "metadata": {},
   "outputs": [],
   "source": []
  }
 ],
 "metadata": {
  "kernelspec": {
   "display_name": "Python 3 (ipykernel)",
   "language": "python",
   "name": "python3"
  },
  "language_info": {
   "codemirror_mode": {
    "name": "ipython",
    "version": 3
   },
   "file_extension": ".py",
   "mimetype": "text/x-python",
   "name": "python",
   "nbconvert_exporter": "python",
   "pygments_lexer": "ipython3",
   "version": "3.10.4"
  }
 },
 "nbformat": 4,
 "nbformat_minor": 5
}
